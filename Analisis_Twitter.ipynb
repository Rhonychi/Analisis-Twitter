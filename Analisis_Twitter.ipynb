{
  "nbformat": 4,
  "nbformat_minor": 0,
  "metadata": {
    "colab": {
      "name": "Analisis Twitter.ipynb",
      "provenance": [],
      "collapsed_sections": []
    },
    "kernelspec": {
      "name": "python3",
      "display_name": "Python 3"
    }
  },
  "cells": [
    {
      "cell_type": "code",
      "metadata": {
        "id": "UKzr15kLXE41"
      },
      "source": [
        "import tweepy\n",
        "from textblob import TextBlob\n",
        "from wordcloud import WordCloud\n",
        "import pandas as pd\n",
        "import numpy as np\n",
        "import re\n",
        "import matplotlib.pyplot as plt\n",
        "plt.style.use('fivethirtyeight')"
      ],
      "execution_count": 1,
      "outputs": []
    },
    {
      "cell_type": "code",
      "metadata": {
        "id": "eSaL_iprXNto"
      },
      "source": [
        "Consumer_Key = \"CGxhnEQwmi5QJl69NiqmkhEdw\"\n",
        "Consumer_Secret_Key = \"WubfToWPZhwxEHlmRwaPUFS8cZpwHDsD1jNxdg8v1L4ejIefbW\"\n",
        "Access_Token = \"1334735354927071232-IqStzBg2yJSPripFOKvggD1cb0mOTE\"\n",
        "Access_Token_Secret = \"6fm8Fm2ZcUAxJq1yrMEkNdv95no6mkRoCS6Xk80ysPdFs\""
      ],
      "execution_count": 4,
      "outputs": []
    },
    {
      "cell_type": "code",
      "metadata": {
        "id": "EMOZZsYDXvCk"
      },
      "source": [
        "auth = tweepy.OAuthHandler(Consumer_Key,Consumer_Secret_Key)\n",
        "auth.set_access_token(Access_Token,Access_Token_Secret)\n",
        "api = tweepy.API(auth)"
      ],
      "execution_count": 5,
      "outputs": []
    },
    {
      "cell_type": "code",
      "metadata": {
        "colab": {
          "base_uri": "https://localhost:8080/"
        },
        "id": "s26DA6U_X23j",
        "outputId": "3cf49cdc-4a73-474a-aca0-0be4e2dc5e45"
      },
      "source": [
        "posts = api.user_timeline(screen_name=\"Kemdikbud_RI\", count = 100, lang =\"en\", tweet_mode=\"extended\")\n",
        "\n",
        "#  Print the last 5 tweets\n",
        "print(\"Show the 5 recent tweets:\\n\")\n",
        "i=1\n",
        "for tweet in posts[:5]:\n",
        "    print(str(i) +') '+ tweet.full_text + '\\n')\n",
        "    i= i+1"
      ],
      "execution_count": 26,
      "outputs": [
        {
          "output_type": "stream",
          "text": [
            "Show the 5 recent tweets:\n",
            "\n",
            "1) #SahabatDikbud, Festival Film Indonesia hadir sbg apresiasi bagi para pekerja film yg telah berjuang menghasilkan karya. Saksikan Malam Anugerah Piala Citra 2020, Sabtu, 5 Des 2020, 19.00 WIB, di YouTube KEMENDIKBUD RI, @budayasaya, &amp; @festivalfilmid!\n",
            "\n",
            "#FilmBagusCitraIndonesia https://t.co/okxUJuVLg7\n",
            "\n",
            "2) #SahabatDikbud, kegiatan pembelajaran tatap muka di perguruan tinggi &amp; politeknik/akademi komunitas pd semester genap TA 2020/2021 dapat dilakukan scr campuran, dalam jaringan, &amp; tatap muka, dengan protokol kesehatan yg ketat. Simak info selengkapnya di\n",
            "https://t.co/3jnMa5Docc.\n",
            "\n",
            "3) Selamat pagi, #SahabatDikbud. Ada tayangan menarik apa saja, ya, pada program #BelajardariRumah di @TVRINasional hari ini? Yuk, simak jadwal acaranya! Selamat beraktivitas, #SahabatDikbud! \n",
            "\n",
            "#MerdekaBelajar\n",
            "#BersamaHadapiKorona https://t.co/pWDanD45BG\n",
            "\n",
            "4) Kemendikbud raih penghargaan Inovasi Program Pembelajaran Daring yang Adaptif di Masa Pandemi, Gatra Awards ke-26, Selasa (1/12). Mendikbud Nadiem Makarim: Ini menjadi pengingat utk senantiasa melayani masyarakat melalui berbagai macam terobosan &amp; inovasi. https://t.co/JyRTnrsj7F https://t.co/WEUFkT4wEF\n",
            "\n",
            "5) Selamat memperingati Hari Disabilitas Internasional, #SahabatDikbud! Mari bersama membangun kembali kehidupan yang lebih baik ke arah yang inklusif, aksesibel, dan berkelanjutan pascapandemi Covid-19. \n",
            "\n",
            "#HariDisabilitasInternasional2020 https://t.co/RoanfXmSvq\n",
            "\n"
          ],
          "name": "stdout"
        }
      ]
    },
    {
      "cell_type": "code",
      "metadata": {
        "colab": {
          "base_uri": "https://localhost:8080/",
          "height": 204
        },
        "id": "z42oXxPRYOUi",
        "outputId": "342b9008-a559-494c-ad73-3dd5c47184eb"
      },
      "source": [
        "df = pd.DataFrame([tweet.full_text for tweet in posts], columns=['Tweets'])\n",
        "# Show the first 5 rows of data\n",
        "df.head()"
      ],
      "execution_count": 27,
      "outputs": [
        {
          "output_type": "execute_result",
          "data": {
            "text/html": [
              "<div>\n",
              "<style scoped>\n",
              "    .dataframe tbody tr th:only-of-type {\n",
              "        vertical-align: middle;\n",
              "    }\n",
              "\n",
              "    .dataframe tbody tr th {\n",
              "        vertical-align: top;\n",
              "    }\n",
              "\n",
              "    .dataframe thead th {\n",
              "        text-align: right;\n",
              "    }\n",
              "</style>\n",
              "<table border=\"1\" class=\"dataframe\">\n",
              "  <thead>\n",
              "    <tr style=\"text-align: right;\">\n",
              "      <th></th>\n",
              "      <th>Tweets</th>\n",
              "    </tr>\n",
              "  </thead>\n",
              "  <tbody>\n",
              "    <tr>\n",
              "      <th>0</th>\n",
              "      <td>#SahabatDikbud, Festival Film Indonesia hadir ...</td>\n",
              "    </tr>\n",
              "    <tr>\n",
              "      <th>1</th>\n",
              "      <td>#SahabatDikbud, kegiatan pembelajaran tatap mu...</td>\n",
              "    </tr>\n",
              "    <tr>\n",
              "      <th>2</th>\n",
              "      <td>Selamat pagi, #SahabatDikbud. Ada tayangan men...</td>\n",
              "    </tr>\n",
              "    <tr>\n",
              "      <th>3</th>\n",
              "      <td>Kemendikbud raih penghargaan Inovasi Program P...</td>\n",
              "    </tr>\n",
              "    <tr>\n",
              "      <th>4</th>\n",
              "      <td>Selamat memperingati Hari Disabilitas Internas...</td>\n",
              "    </tr>\n",
              "  </tbody>\n",
              "</table>\n",
              "</div>"
            ],
            "text/plain": [
              "                                              Tweets\n",
              "0  #SahabatDikbud, Festival Film Indonesia hadir ...\n",
              "1  #SahabatDikbud, kegiatan pembelajaran tatap mu...\n",
              "2  Selamat pagi, #SahabatDikbud. Ada tayangan men...\n",
              "3  Kemendikbud raih penghargaan Inovasi Program P...\n",
              "4  Selamat memperingati Hari Disabilitas Internas..."
            ]
          },
          "metadata": {
            "tags": []
          },
          "execution_count": 27
        }
      ]
    },
    {
      "cell_type": "code",
      "metadata": {
        "colab": {
          "base_uri": "https://localhost:8080/",
          "height": 419
        },
        "id": "6aAM5nDVYVlv",
        "outputId": "427e0ab4-094d-40c0-a5f7-8a9ad5b7e6e3"
      },
      "source": [
        "def cleanTxt(text):\n",
        " text = re.sub('@[A-Za-z0–9]+', '', text) #Removing @mentions\n",
        " text = re.sub('#', '', text) # Removing '#' hash tag\n",
        " text = re.sub('RT[\\s]+', '', text) # Removing RT\n",
        " text = re.sub('https?:\\/\\/\\S+', '', text) # Removing hyperlink\n",
        " \n",
        " return text\n",
        "\n",
        "\n",
        "# Clean the tweets\n",
        "df['Tweets'] = df['Tweets'].apply(cleanTxt)\n",
        "\n",
        "# Show the cleaned tweets\n",
        "df"
      ],
      "execution_count": 28,
      "outputs": [
        {
          "output_type": "execute_result",
          "data": {
            "text/html": [
              "<div>\n",
              "<style scoped>\n",
              "    .dataframe tbody tr th:only-of-type {\n",
              "        vertical-align: middle;\n",
              "    }\n",
              "\n",
              "    .dataframe tbody tr th {\n",
              "        vertical-align: top;\n",
              "    }\n",
              "\n",
              "    .dataframe thead th {\n",
              "        text-align: right;\n",
              "    }\n",
              "</style>\n",
              "<table border=\"1\" class=\"dataframe\">\n",
              "  <thead>\n",
              "    <tr style=\"text-align: right;\">\n",
              "      <th></th>\n",
              "      <th>Tweets</th>\n",
              "    </tr>\n",
              "  </thead>\n",
              "  <tbody>\n",
              "    <tr>\n",
              "      <th>0</th>\n",
              "      <td>SahabatDikbud, Festival Film Indonesia hadir s...</td>\n",
              "    </tr>\n",
              "    <tr>\n",
              "      <th>1</th>\n",
              "      <td>SahabatDikbud, kegiatan pembelajaran tatap muk...</td>\n",
              "    </tr>\n",
              "    <tr>\n",
              "      <th>2</th>\n",
              "      <td>Selamat pagi, SahabatDikbud. Ada tayangan mena...</td>\n",
              "    </tr>\n",
              "    <tr>\n",
              "      <th>3</th>\n",
              "      <td>Kemendikbud raih penghargaan Inovasi Program P...</td>\n",
              "    </tr>\n",
              "    <tr>\n",
              "      <th>4</th>\n",
              "      <td>Selamat memperingati Hari Disabilitas Internas...</td>\n",
              "    </tr>\n",
              "    <tr>\n",
              "      <th>...</th>\n",
              "      <td>...</td>\n",
              "    </tr>\n",
              "    <tr>\n",
              "      <th>95</th>\n",
              "      <td>SahabatDikbud pasti tahu binatang apa yang sed...</td>\n",
              "    </tr>\n",
              "    <tr>\n",
              "      <th>96</th>\n",
              "      <td>_Indonesia: Sobat PKN, ini dia rangkuman keram...</td>\n",
              "    </tr>\n",
              "    <tr>\n",
              "      <th>97</th>\n",
              "      <td>Mendikbud Nadiem Makarim mengapresiasi masyara...</td>\n",
              "    </tr>\n",
              "    <tr>\n",
              "      <th>98</th>\n",
              "      <td>SahabatDikbud, Mendikbud Nadiem Makarim melaku...</td>\n",
              "    </tr>\n",
              "    <tr>\n",
              "      <th>99</th>\n",
              "      <td>Selamat memperingati Hari Pahlawan, SahabatDik...</td>\n",
              "    </tr>\n",
              "  </tbody>\n",
              "</table>\n",
              "<p>100 rows × 1 columns</p>\n",
              "</div>"
            ],
            "text/plain": [
              "                                               Tweets\n",
              "0   SahabatDikbud, Festival Film Indonesia hadir s...\n",
              "1   SahabatDikbud, kegiatan pembelajaran tatap muk...\n",
              "2   Selamat pagi, SahabatDikbud. Ada tayangan mena...\n",
              "3   Kemendikbud raih penghargaan Inovasi Program P...\n",
              "4   Selamat memperingati Hari Disabilitas Internas...\n",
              "..                                                ...\n",
              "95  SahabatDikbud pasti tahu binatang apa yang sed...\n",
              "96  _Indonesia: Sobat PKN, ini dia rangkuman keram...\n",
              "97  Mendikbud Nadiem Makarim mengapresiasi masyara...\n",
              "98  SahabatDikbud, Mendikbud Nadiem Makarim melaku...\n",
              "99  Selamat memperingati Hari Pahlawan, SahabatDik...\n",
              "\n",
              "[100 rows x 1 columns]"
            ]
          },
          "metadata": {
            "tags": []
          },
          "execution_count": 28
        }
      ]
    },
    {
      "cell_type": "code",
      "metadata": {
        "colab": {
          "base_uri": "https://localhost:8080/",
          "height": 419
        },
        "id": "DQ_BQryVYbT5",
        "outputId": "35a9d59b-d4eb-49c2-b810-12193401a536"
      },
      "source": [
        "# Create a function to get the subjectivity\n",
        "def getSubjectivity(text):\n",
        "   return TextBlob(text).sentiment.subjectivity\n",
        "\n",
        "# Create a function to get the polarity\n",
        "def getPolarity(text):\n",
        "   return  TextBlob(text).sentiment.polarity\n",
        "\n",
        "\n",
        "# Create two new columns 'Subjectivity' & 'Polarity'\n",
        "df['Subjectivity'] = df['Tweets'].apply(getSubjectivity)\n",
        "df['Polarity'] = df['Tweets'].apply(getPolarity)\n",
        "\n",
        "\n",
        "# Show the new dataframe with columns 'Subjectivity' & 'Polarity'\n",
        "df"
      ],
      "execution_count": 29,
      "outputs": [
        {
          "output_type": "execute_result",
          "data": {
            "text/html": [
              "<div>\n",
              "<style scoped>\n",
              "    .dataframe tbody tr th:only-of-type {\n",
              "        vertical-align: middle;\n",
              "    }\n",
              "\n",
              "    .dataframe tbody tr th {\n",
              "        vertical-align: top;\n",
              "    }\n",
              "\n",
              "    .dataframe thead th {\n",
              "        text-align: right;\n",
              "    }\n",
              "</style>\n",
              "<table border=\"1\" class=\"dataframe\">\n",
              "  <thead>\n",
              "    <tr style=\"text-align: right;\">\n",
              "      <th></th>\n",
              "      <th>Tweets</th>\n",
              "      <th>Subjectivity</th>\n",
              "      <th>Polarity</th>\n",
              "    </tr>\n",
              "  </thead>\n",
              "  <tbody>\n",
              "    <tr>\n",
              "      <th>0</th>\n",
              "      <td>SahabatDikbud, Festival Film Indonesia hadir s...</td>\n",
              "      <td>0.0</td>\n",
              "      <td>0.0</td>\n",
              "    </tr>\n",
              "    <tr>\n",
              "      <th>1</th>\n",
              "      <td>SahabatDikbud, kegiatan pembelajaran tatap muk...</td>\n",
              "      <td>0.0</td>\n",
              "      <td>0.0</td>\n",
              "    </tr>\n",
              "    <tr>\n",
              "      <th>2</th>\n",
              "      <td>Selamat pagi, SahabatDikbud. Ada tayangan mena...</td>\n",
              "      <td>0.0</td>\n",
              "      <td>0.0</td>\n",
              "    </tr>\n",
              "    <tr>\n",
              "      <th>3</th>\n",
              "      <td>Kemendikbud raih penghargaan Inovasi Program P...</td>\n",
              "      <td>0.0</td>\n",
              "      <td>0.0</td>\n",
              "    </tr>\n",
              "    <tr>\n",
              "      <th>4</th>\n",
              "      <td>Selamat memperingati Hari Disabilitas Internas...</td>\n",
              "      <td>0.0</td>\n",
              "      <td>0.0</td>\n",
              "    </tr>\n",
              "    <tr>\n",
              "      <th>...</th>\n",
              "      <td>...</td>\n",
              "      <td>...</td>\n",
              "      <td>...</td>\n",
              "    </tr>\n",
              "    <tr>\n",
              "      <th>95</th>\n",
              "      <td>SahabatDikbud pasti tahu binatang apa yang sed...</td>\n",
              "      <td>0.0</td>\n",
              "      <td>0.0</td>\n",
              "    </tr>\n",
              "    <tr>\n",
              "      <th>96</th>\n",
              "      <td>_Indonesia: Sobat PKN, ini dia rangkuman keram...</td>\n",
              "      <td>0.0</td>\n",
              "      <td>0.0</td>\n",
              "    </tr>\n",
              "    <tr>\n",
              "      <th>97</th>\n",
              "      <td>Mendikbud Nadiem Makarim mengapresiasi masyara...</td>\n",
              "      <td>0.0</td>\n",
              "      <td>0.0</td>\n",
              "    </tr>\n",
              "    <tr>\n",
              "      <th>98</th>\n",
              "      <td>SahabatDikbud, Mendikbud Nadiem Makarim melaku...</td>\n",
              "      <td>0.0</td>\n",
              "      <td>0.0</td>\n",
              "    </tr>\n",
              "    <tr>\n",
              "      <th>99</th>\n",
              "      <td>Selamat memperingati Hari Pahlawan, SahabatDik...</td>\n",
              "      <td>0.0</td>\n",
              "      <td>0.0</td>\n",
              "    </tr>\n",
              "  </tbody>\n",
              "</table>\n",
              "<p>100 rows × 3 columns</p>\n",
              "</div>"
            ],
            "text/plain": [
              "                                               Tweets  Subjectivity  Polarity\n",
              "0   SahabatDikbud, Festival Film Indonesia hadir s...           0.0       0.0\n",
              "1   SahabatDikbud, kegiatan pembelajaran tatap muk...           0.0       0.0\n",
              "2   Selamat pagi, SahabatDikbud. Ada tayangan mena...           0.0       0.0\n",
              "3   Kemendikbud raih penghargaan Inovasi Program P...           0.0       0.0\n",
              "4   Selamat memperingati Hari Disabilitas Internas...           0.0       0.0\n",
              "..                                                ...           ...       ...\n",
              "95  SahabatDikbud pasti tahu binatang apa yang sed...           0.0       0.0\n",
              "96  _Indonesia: Sobat PKN, ini dia rangkuman keram...           0.0       0.0\n",
              "97  Mendikbud Nadiem Makarim mengapresiasi masyara...           0.0       0.0\n",
              "98  SahabatDikbud, Mendikbud Nadiem Makarim melaku...           0.0       0.0\n",
              "99  Selamat memperingati Hari Pahlawan, SahabatDik...           0.0       0.0\n",
              "\n",
              "[100 rows x 3 columns]"
            ]
          },
          "metadata": {
            "tags": []
          },
          "execution_count": 29
        }
      ]
    },
    {
      "cell_type": "code",
      "metadata": {
        "colab": {
          "base_uri": "https://localhost:8080/",
          "height": 248
        },
        "id": "7anZM-u0Yqji",
        "outputId": "7308ed17-11f9-460f-f455-b349290bd78a"
      },
      "source": [
        "# word cloud visualization\n",
        "allWords = ' '.join([twts for twts in df['Tweets']])\n",
        "wordCloud = WordCloud(width=500, height=300, random_state=21, max_font_size=110).generate(allWords)\n",
        "\n",
        "\n",
        "plt.imshow(wordCloud, interpolation=\"bilinear\")\n",
        "plt.axis('off')\n",
        "plt.show()"
      ],
      "execution_count": 17,
      "outputs": [
        {
          "output_type": "display_data",
          "data": {
            "image/png": "[encoded data removed]",
            "text/plain": [
              "<Figure size 432x288 with 1 Axes>"
            ]
          },
          "metadata": {
            "tags": [],
            "needs_background": "light"
          }
        }
      ]
    },
    {
      "cell_type": "code",
      "metadata": {
        "colab": {
          "base_uri": "https://localhost:8080/",
          "height": 419
        },
        "id": "RCPiwucrYudp",
        "outputId": "4804c704-7e2a-4d65-8419-eb2511690cab"
      },
      "source": [
        "# Create a function to compute negative (-1), neutral (0) and positive (+1) analysis\n",
        "def getAnalysis(score):\n",
        "\n",
        "    \n",
        " if score < 0:\n",
        "  return 'Negative'\n",
        " elif score == 0:\n",
        "  return 'Neutral'\n",
        " else:\n",
        "  return 'Positive'\n",
        "df['Analysis'] = df['Polarity'].apply(getAnalysis)\n",
        "# Show the dataframe\n",
        "df"
      ],
      "execution_count": 30,
      "outputs": [
        {
          "output_type": "execute_result",
          "data": {
            "text/html": [
              "<div>\n",
              "<style scoped>\n",
              "    .dataframe tbody tr th:only-of-type {\n",
              "        vertical-align: middle;\n",
              "    }\n",
              "\n",
              "    .dataframe tbody tr th {\n",
              "        vertical-align: top;\n",
              "    }\n",
              "\n",
              "    .dataframe thead th {\n",
              "        text-align: right;\n",
              "    }\n",
              "</style>\n",
              "<table border=\"1\" class=\"dataframe\">\n",
              "  <thead>\n",
              "    <tr style=\"text-align: right;\">\n",
              "      <th></th>\n",
              "      <th>Tweets</th>\n",
              "      <th>Subjectivity</th>\n",
              "      <th>Polarity</th>\n",
              "      <th>Analysis</th>\n",
              "    </tr>\n",
              "  </thead>\n",
              "  <tbody>\n",
              "    <tr>\n",
              "      <th>0</th>\n",
              "      <td>SahabatDikbud, Festival Film Indonesia hadir s...</td>\n",
              "      <td>0.0</td>\n",
              "      <td>0.0</td>\n",
              "      <td>Neutral</td>\n",
              "    </tr>\n",
              "    <tr>\n",
              "      <th>1</th>\n",
              "      <td>SahabatDikbud, kegiatan pembelajaran tatap muk...</td>\n",
              "      <td>0.0</td>\n",
              "      <td>0.0</td>\n",
              "      <td>Neutral</td>\n",
              "    </tr>\n",
              "    <tr>\n",
              "      <th>2</th>\n",
              "      <td>Selamat pagi, SahabatDikbud. Ada tayangan mena...</td>\n",
              "      <td>0.0</td>\n",
              "      <td>0.0</td>\n",
              "      <td>Neutral</td>\n",
              "    </tr>\n",
              "    <tr>\n",
              "      <th>3</th>\n",
              "      <td>Kemendikbud raih penghargaan Inovasi Program P...</td>\n",
              "      <td>0.0</td>\n",
              "      <td>0.0</td>\n",
              "      <td>Neutral</td>\n",
              "    </tr>\n",
              "    <tr>\n",
              "      <th>4</th>\n",
              "      <td>Selamat memperingati Hari Disabilitas Internas...</td>\n",
              "      <td>0.0</td>\n",
              "      <td>0.0</td>\n",
              "      <td>Neutral</td>\n",
              "    </tr>\n",
              "    <tr>\n",
              "      <th>...</th>\n",
              "      <td>...</td>\n",
              "      <td>...</td>\n",
              "      <td>...</td>\n",
              "      <td>...</td>\n",
              "    </tr>\n",
              "    <tr>\n",
              "      <th>95</th>\n",
              "      <td>SahabatDikbud pasti tahu binatang apa yang sed...</td>\n",
              "      <td>0.0</td>\n",
              "      <td>0.0</td>\n",
              "      <td>Neutral</td>\n",
              "    </tr>\n",
              "    <tr>\n",
              "      <th>96</th>\n",
              "      <td>_Indonesia: Sobat PKN, ini dia rangkuman keram...</td>\n",
              "      <td>0.0</td>\n",
              "      <td>0.0</td>\n",
              "      <td>Neutral</td>\n",
              "    </tr>\n",
              "    <tr>\n",
              "      <th>97</th>\n",
              "      <td>Mendikbud Nadiem Makarim mengapresiasi masyara...</td>\n",
              "      <td>0.0</td>\n",
              "      <td>0.0</td>\n",
              "      <td>Neutral</td>\n",
              "    </tr>\n",
              "    <tr>\n",
              "      <th>98</th>\n",
              "      <td>SahabatDikbud, Mendikbud Nadiem Makarim melaku...</td>\n",
              "      <td>0.0</td>\n",
              "      <td>0.0</td>\n",
              "      <td>Neutral</td>\n",
              "    </tr>\n",
              "    <tr>\n",
              "      <th>99</th>\n",
              "      <td>Selamat memperingati Hari Pahlawan, SahabatDik...</td>\n",
              "      <td>0.0</td>\n",
              "      <td>0.0</td>\n",
              "      <td>Neutral</td>\n",
              "    </tr>\n",
              "  </tbody>\n",
              "</table>\n",
              "<p>100 rows × 4 columns</p>\n",
              "</div>"
            ],
            "text/plain": [
              "                                               Tweets  ...  Analysis\n",
              "0   SahabatDikbud, Festival Film Indonesia hadir s...  ...   Neutral\n",
              "1   SahabatDikbud, kegiatan pembelajaran tatap muk...  ...   Neutral\n",
              "2   Selamat pagi, SahabatDikbud. Ada tayangan mena...  ...   Neutral\n",
              "3   Kemendikbud raih penghargaan Inovasi Program P...  ...   Neutral\n",
              "4   Selamat memperingati Hari Disabilitas Internas...  ...   Neutral\n",
              "..                                                ...  ...       ...\n",
              "95  SahabatDikbud pasti tahu binatang apa yang sed...  ...   Neutral\n",
              "96  _Indonesia: Sobat PKN, ini dia rangkuman keram...  ...   Neutral\n",
              "97  Mendikbud Nadiem Makarim mengapresiasi masyara...  ...   Neutral\n",
              "98  SahabatDikbud, Mendikbud Nadiem Makarim melaku...  ...   Neutral\n",
              "99  Selamat memperingati Hari Pahlawan, SahabatDik...  ...   Neutral\n",
              "\n",
              "[100 rows x 4 columns]"
            ]
          },
          "metadata": {
            "tags": []
          },
          "execution_count": 30
        }
      ]
    },
    {
      "cell_type": "code",
      "metadata": {
        "colab": {
          "base_uri": "https://localhost:8080/"
        },
        "id": "0KtfsbOIY0SY",
        "outputId": "b3598fca-97ed-40af-a196-9cc433384461"
      },
      "source": [
        "print('Printing negative tweets:\\n')\n",
        "j=1\n",
        "sortedDF = df.sort_values(by=['Polarity'],ascending=False) #Sort the tweets\n",
        "for i in range(0, sortedDF.shape[0] ):\n",
        "  if( sortedDF['Analysis'][i] == 'Negative'):\n",
        "    print(str(j) + ') '+sortedDF['Tweets'][i])\n",
        "    print()\n",
        "    j=j+1"
      ],
      "execution_count": 31,
      "outputs": [
        {
          "output_type": "stream",
          "text": [
            "Printing negative tweets:\n",
            "\n",
            "1) SahabatDikbud, jangan lewatkan Penutupan PekanKebudayaanNasional 2020 malam nanti yang akan menampilkan Parade Mahakarya Topeng Nusantara dari kawasan percandian Prambanan! Saksikan di  , YouTube  dan .\n",
            "\n",
            "pkn2020 \n",
            "\n",
            "2) : [WEBINAR MENGULAS FILM TINGKAT PELAJAR]\n",
            "\n",
            "SahabatFilm dan SahabatMusik, yuk, ikutan dan daftarkan dirimu melalui tautan…\n",
            "\n",
            "3) : [INFO MUNASPROK : Pendaftaran Peserta \"Seminar Nasional : 75 tahun Indonesia Merdeka Episode 2”]\n",
            "\n",
            "Dalam rangka Hari Pahl…\n",
            "\n",
            "4) Info: Tayangan \"Game Edutainment\" pada pukul 10.00 WIB diganti dengan \"Beranda Pak RT\".\n",
            "\n"
          ],
          "name": "stdout"
        }
      ]
    },
    {
      "cell_type": "code",
      "metadata": {
        "colab": {
          "base_uri": "https://localhost:8080/"
        },
        "id": "I8G6-tF-Y5e8",
        "outputId": "d87d6f95-512c-44e7-fde3-e861111daae5"
      },
      "source": [
        "print('Printing Positive tweets:\\n')\n",
        "j=1\n",
        "sortedDF = df.sort_values(by=['Polarity'],ascending=True) #Sort the tweets\n",
        "for i in range(0, sortedDF.shape[0] ):\n",
        "  if( sortedDF['Analysis'][i] == 'Positive'):\n",
        "    print(str(j) + ') '+sortedDF['Tweets'][i])\n",
        "    print()\n",
        "    j=j+1"
      ],
      "execution_count": 32,
      "outputs": [
        {
          "output_type": "stream",
          "text": [
            "Printing Positive tweets:\n",
            "\n",
            "1) Penghargaan ini diterima langsung oleh Mendikbud Nadiem Anwar Makarim pada acara Rapat Koordinasi Nasional Pengadaan Barang/Jasa 2020 di Hotel Grand Savero, Kota Bogor, Jawa Barat, Rabu (18/11/2020). \n",
            "\n"
          ],
          "name": "stdout"
        }
      ]
    },
    {
      "cell_type": "code",
      "metadata": {
        "colab": {
          "base_uri": "https://localhost:8080/",
          "height": 405
        },
        "id": "U8wA8lU2ZB_e",
        "outputId": "f7816881-7325-49ea-ee2a-79fc480bb8c7"
      },
      "source": [
        "plt.figure(figsize=(8,6)) \n",
        "for i in range(0, df.shape[0]):\n",
        "  plt.scatter(df[\"Polarity\"][i], df[\"Subjectivity\"][i], color='Blue') \n",
        "# plt.scatter(x,y,color)   \n",
        "plt.title('Sentiment Analysis') \n",
        "plt.xlabel('Polarity') \n",
        "plt.ylabel('Subjectivity') \n",
        "plt.show()"
      ],
      "execution_count": 33,
      "outputs": [
        {
          "output_type": "display_data",
          "data": {
            "image/png": "[encoded data removed]",
            "text/plain": [
              "<Figure size 576x432 with 1 Axes>"
            ]
          },
          "metadata": {
            "tags": [],
            "needs_background": "light"
          }
        }
      ]
    },
    {
      "cell_type": "code",
      "metadata": {
        "colab": {
          "base_uri": "https://localhost:8080/"
        },
        "id": "KHqZw_7mZGIG",
        "outputId": "ba90bbc3-97fe-4c77-b9f8-75ca5ef4c60e"
      },
      "source": [
        "ptweets = df[df.Analysis == 'Positive']\n",
        "ptweets = ptweets['Tweets']\n",
        "ptweets\n",
        "\n",
        "round( (ptweets.shape[0] / df.shape[0]) * 100 , 1)"
      ],
      "execution_count": 34,
      "outputs": [
        {
          "output_type": "execute_result",
          "data": {
            "text/plain": [
              "1.0"
            ]
          },
          "metadata": {
            "tags": []
          },
          "execution_count": 34
        }
      ]
    },
    {
      "cell_type": "code",
      "metadata": {
        "colab": {
          "base_uri": "https://localhost:8080/"
        },
        "id": "eoz8DHuRZJmq",
        "outputId": "84f678d2-417c-4cfb-d065-cdcdc71af442"
      },
      "source": [
        "# Show the value counts\n",
        "df['Analysis'].value_counts()"
      ],
      "execution_count": 35,
      "outputs": [
        {
          "output_type": "execute_result",
          "data": {
            "text/plain": [
              "Neutral     95\n",
              "Negative     4\n",
              "Positive     1\n",
              "Name: Analysis, dtype: int64"
            ]
          },
          "metadata": {
            "tags": []
          },
          "execution_count": 35
        }
      ]
    },
    {
      "cell_type": "code",
      "metadata": {
        "colab": {
          "base_uri": "https://localhost:8080/",
          "height": 331
        },
        "id": "vbbxFch5ZLdm",
        "outputId": "df5b51f4-0b61-4ac7-8a46-4c4ef4d5bfc8"
      },
      "source": [
        "plt.title('Sentiment Analysis')\n",
        "plt.xlabel('Sentiment')\n",
        "plt.ylabel('Counts')\n",
        "df['Analysis'].value_counts().plot(kind = 'bar')\n",
        "plt.show()"
      ],
      "execution_count": 36,
      "outputs": [
        {
          "output_type": "display_data",
          "data": {
            "image/png": "[encoded data removed]",
            "text/plain": [
              "<Figure size 432x288 with 1 Axes>"
            ]
          },
          "metadata": {
            "tags": [],
            "needs_background": "light"
          }
        }
      ]
    },
    {
      "cell_type": "code",
      "metadata": {
        "colab": {
          "base_uri": "https://localhost:8080/",
          "height": 296
        },
        "id": "Zzo4k42dZPQI",
        "outputId": "09052241-f3f1-478f-f0a4-397e09bcf808"
      },
      "source": [
        "plt.title('Sentiment Analysis')\n",
        "plt.xlabel('Sentiment')\n",
        "plt.ylabel('Counts')\n",
        "df['Analysis'].value_counts().plot(kind = 'line')\n",
        "plt.show()"
      ],
      "execution_count": 37,
      "outputs": [
        {
          "output_type": "display_data",
          "data": {
            "image/png": "[encoded data removed]",
            "text/plain": [
              "<Figure size 432x288 with 1 Axes>"
            ]
          },
          "metadata": {
            "tags": [],
            "needs_background": "light"
          }
        }
      ]
    }
  ]
}